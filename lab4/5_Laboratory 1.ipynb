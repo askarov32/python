{
 "cells": [
  {
   "cell_type": "code",
   "execution_count": 1,
   "metadata": {},
   "outputs": [],
   "source": [
    "import pandas as pd"
   ]
  },
  {
   "cell_type": "code",
   "execution_count": 2,
   "metadata": {},
   "outputs": [],
   "source": [
    "marksUT= {'Name':['Alvin','Alvin','Alvin','Belle','Belle','Belle', 'Chip','Chip','Chip','Dale','Dale','Dale'],\n",
    "'UT':[1,2,3,1,2,3,1,2,3,1,2,3], #Unit test 1,2,3\n",
    "'Math':[22,21,14,20,23,22,23,24,12,15,18,17],\n",
    "'Science':[21,20,19,17,15,18,19,22,25,22,21,18],\n",
    "'Engl':[18,17,15,22,21,19,20,24,19,25,25,20],\n",
    "'Hist':[20,22,24,24,25,23,15,17,21,22,24,25],\n",
    "'Liter':[21,24,23,19,15,13,22,21,23,22,23,20]\n",
    "}\n",
    "df=pd.DataFrame(marksUT)"
   ]
  },
  {
   "cell_type": "markdown",
   "metadata": {},
   "source": [
    "# 1. Sorting a DataFrame"
   ]
  },
  {
   "cell_type": "markdown",
   "metadata": {},
   "source": [
    "###  Syntax:\n",
    "_DataFrame.sort_values(by, axis=0, ascending=True)_"
   ]
  },
  {
   "cell_type": "code",
   "execution_count": 3,
   "metadata": {},
   "outputs": [
    {
     "name": "stdout",
     "output_type": "stream",
     "text": [
      "     Name  UT  Math  Science  Engl  Hist  Liter\n",
      "0   Alvin   1    22       21    18    20     21\n",
      "1   Alvin   2    21       20    17    22     24\n",
      "2   Alvin   3    14       19    15    24     23\n",
      "3   Belle   1    20       17    22    24     19\n",
      "4   Belle   2    23       15    21    25     15\n",
      "5   Belle   3    22       18    19    23     13\n",
      "6    Chip   1    23       19    20    15     22\n",
      "7    Chip   2    24       22    24    17     21\n",
      "8    Chip   3    12       25    19    21     23\n",
      "9    Dale   1    15       22    25    22     22\n",
      "10   Dale   2    18       21    25    24     23\n",
      "11   Dale   3    17       18    20    25     20\n"
     ]
    }
   ],
   "source": [
    "#By default, sorting is done in ascending order.\n",
    "print(df.sort_values(by=['Name']))"
   ]
  },
  {
   "cell_type": "code",
   "execution_count": 4,
   "metadata": {},
   "outputs": [],
   "source": [
    "# Get the data corresponding to Unit Test 2\n",
    "dfUT2 = df[df.UT == 2]\n",
    "# Sort according to ascending order of marks in Science"
   ]
  },
  {
   "cell_type": "code",
   "execution_count": 5,
   "metadata": {},
   "outputs": [
    {
     "name": "stdout",
     "output_type": "stream",
     "text": [
      "     Name  UT  Math  Science  Engl  Hist  Liter\n",
      "4   Belle   2    23       15    21    25     15\n",
      "1   Alvin   2    21       20    17    22     24\n",
      "10   Dale   2    18       21    25    24     23\n",
      "7    Chip   2    24       22    24    17     21\n"
     ]
    }
   ],
   "source": [
    "print(dfUT2.sort_values(by=['Science']))"
   ]
  },
  {
   "cell_type": "code",
   "execution_count": 6,
   "metadata": {},
   "outputs": [
    {
     "name": "stdout",
     "output_type": "stream",
     "text": [
      "     Name  UT  Math  Science  Engl  Hist  Liter\n",
      "11   Dale   3    17       18    20    25     20\n",
      "5   Belle   3    22       18    19    23     13\n",
      "8    Chip   3    12       25    19    21     23\n",
      "2   Alvin   3    14       19    15    24     23\n"
     ]
    }
   ],
   "source": [
    "# Get the data corresponding to Unit Test 3\n",
    "dfUT3 = df[df.UT == 3]\n",
    "# Sort according to descending order of marks in Science\n",
    "print(dfUT3.sort_values(by=['Engl'],ascending=False))"
   ]
  },
  {
   "cell_type": "code",
   "execution_count": 7,
   "metadata": {},
   "outputs": [
    {
     "name": "stdout",
     "output_type": "stream",
     "text": [
      "     Name  UT  Math  Science  Engl  Hist  Liter\n",
      "5   Belle   3    22       18    19    23     13\n",
      "11   Dale   3    17       18    20    25     20\n",
      "2   Alvin   3    14       19    15    24     23\n",
      "8    Chip   3    12       25    19    21     23\n"
     ]
    }
   ],
   "source": [
    "# Get the data corresponding to marks in Unit Test 3\n",
    "dfUT3 = df[df.UT == 3]\n",
    "# Sort the data according to Science and then according to History\n",
    "print(dfUT3.sort_values(by=['Science','Hist']))"
   ]
  },
  {
   "cell_type": "markdown",
   "metadata": {},
   "source": [
    "# 2. GROUP BY function "
   ]
  },
  {
   "cell_type": "code",
   "execution_count": 8,
   "metadata": {},
   "outputs": [],
   "source": [
    "#Create a GROUP BY Name of the student from DataFrame df\n",
    "g1=df.groupby('Name')"
   ]
  },
  {
   "cell_type": "code",
   "execution_count": 9,
   "metadata": {},
   "outputs": [
    {
     "data": {
      "text/html": [
       "<div>\n",
       "<style scoped>\n",
       "    .dataframe tbody tr th:only-of-type {\n",
       "        vertical-align: middle;\n",
       "    }\n",
       "\n",
       "    .dataframe tbody tr th {\n",
       "        vertical-align: top;\n",
       "    }\n",
       "\n",
       "    .dataframe thead th {\n",
       "        text-align: right;\n",
       "    }\n",
       "</style>\n",
       "<table border=\"1\" class=\"dataframe\">\n",
       "  <thead>\n",
       "    <tr style=\"text-align: right;\">\n",
       "      <th></th>\n",
       "      <th>UT</th>\n",
       "      <th>Math</th>\n",
       "      <th>Science</th>\n",
       "      <th>Engl</th>\n",
       "      <th>Hist</th>\n",
       "      <th>Liter</th>\n",
       "    </tr>\n",
       "    <tr>\n",
       "      <th>Name</th>\n",
       "      <th></th>\n",
       "      <th></th>\n",
       "      <th></th>\n",
       "      <th></th>\n",
       "      <th></th>\n",
       "      <th></th>\n",
       "    </tr>\n",
       "  </thead>\n",
       "  <tbody>\n",
       "    <tr>\n",
       "      <th>Alvin</th>\n",
       "      <td>1</td>\n",
       "      <td>22</td>\n",
       "      <td>21</td>\n",
       "      <td>18</td>\n",
       "      <td>20</td>\n",
       "      <td>21</td>\n",
       "    </tr>\n",
       "    <tr>\n",
       "      <th>Belle</th>\n",
       "      <td>1</td>\n",
       "      <td>20</td>\n",
       "      <td>17</td>\n",
       "      <td>22</td>\n",
       "      <td>24</td>\n",
       "      <td>19</td>\n",
       "    </tr>\n",
       "    <tr>\n",
       "      <th>Chip</th>\n",
       "      <td>1</td>\n",
       "      <td>23</td>\n",
       "      <td>19</td>\n",
       "      <td>20</td>\n",
       "      <td>15</td>\n",
       "      <td>22</td>\n",
       "    </tr>\n",
       "    <tr>\n",
       "      <th>Dale</th>\n",
       "      <td>1</td>\n",
       "      <td>15</td>\n",
       "      <td>22</td>\n",
       "      <td>25</td>\n",
       "      <td>22</td>\n",
       "      <td>22</td>\n",
       "    </tr>\n",
       "  </tbody>\n",
       "</table>\n",
       "</div>"
      ],
      "text/plain": [
       "       UT  Math  Science  Engl  Hist  Liter\n",
       "Name                                       \n",
       "Alvin   1    22       21    18    20     21\n",
       "Belle   1    20       17    22    24     19\n",
       "Chip    1    23       19    20    15     22\n",
       "Dale    1    15       22    25    22     22"
      ]
     },
     "execution_count": 9,
     "metadata": {},
     "output_type": "execute_result"
    }
   ],
   "source": [
    "#Displaying the first entry from each group\n",
    "g1.first()"
   ]
  },
  {
   "cell_type": "code",
   "execution_count": 10,
   "metadata": {},
   "outputs": [
    {
     "data": {
      "text/plain": [
       "Name\n",
       "Alvin    3\n",
       "Belle    3\n",
       "Chip     3\n",
       "Dale     3\n",
       "dtype: int64"
      ]
     },
     "execution_count": 10,
     "metadata": {},
     "output_type": "execute_result"
    }
   ],
   "source": [
    "#Displaying the size of each group\n",
    "g1.size()"
   ]
  },
  {
   "cell_type": "code",
   "execution_count": 11,
   "metadata": {},
   "outputs": [
    {
     "data": {
      "text/plain": [
       "{'Alvin': [0, 1, 2], 'Belle': [3, 4, 5], 'Chip': [6, 7, 8], 'Dale': [9, 10, 11]}"
      ]
     },
     "execution_count": 11,
     "metadata": {},
     "output_type": "execute_result"
    }
   ],
   "source": [
    "#Displaying group data, i.e., group_name, row indexes corresponding to the group and their\n",
    "#data type\n",
    "g1.groups"
   ]
  },
  {
   "cell_type": "code",
   "execution_count": 12,
   "metadata": {},
   "outputs": [
    {
     "data": {
      "text/html": [
       "<div>\n",
       "<style scoped>\n",
       "    .dataframe tbody tr th:only-of-type {\n",
       "        vertical-align: middle;\n",
       "    }\n",
       "\n",
       "    .dataframe tbody tr th {\n",
       "        vertical-align: top;\n",
       "    }\n",
       "\n",
       "    .dataframe thead th {\n",
       "        text-align: right;\n",
       "    }\n",
       "</style>\n",
       "<table border=\"1\" class=\"dataframe\">\n",
       "  <thead>\n",
       "    <tr style=\"text-align: right;\">\n",
       "      <th></th>\n",
       "      <th>Name</th>\n",
       "      <th>UT</th>\n",
       "      <th>Math</th>\n",
       "      <th>Science</th>\n",
       "      <th>Engl</th>\n",
       "      <th>Hist</th>\n",
       "      <th>Liter</th>\n",
       "    </tr>\n",
       "  </thead>\n",
       "  <tbody>\n",
       "    <tr>\n",
       "      <th>6</th>\n",
       "      <td>Chip</td>\n",
       "      <td>1</td>\n",
       "      <td>23</td>\n",
       "      <td>19</td>\n",
       "      <td>20</td>\n",
       "      <td>15</td>\n",
       "      <td>22</td>\n",
       "    </tr>\n",
       "    <tr>\n",
       "      <th>7</th>\n",
       "      <td>Chip</td>\n",
       "      <td>2</td>\n",
       "      <td>24</td>\n",
       "      <td>22</td>\n",
       "      <td>24</td>\n",
       "      <td>17</td>\n",
       "      <td>21</td>\n",
       "    </tr>\n",
       "    <tr>\n",
       "      <th>8</th>\n",
       "      <td>Chip</td>\n",
       "      <td>3</td>\n",
       "      <td>12</td>\n",
       "      <td>25</td>\n",
       "      <td>19</td>\n",
       "      <td>21</td>\n",
       "      <td>23</td>\n",
       "    </tr>\n",
       "  </tbody>\n",
       "</table>\n",
       "</div>"
      ],
      "text/plain": [
       "   Name  UT  Math  Science  Engl  Hist  Liter\n",
       "6  Chip   1    23       19    20    15     22\n",
       "7  Chip   2    24       22    24    17     21\n",
       "8  Chip   3    12       25    19    21     23"
      ]
     },
     "execution_count": 12,
     "metadata": {},
     "output_type": "execute_result"
    }
   ],
   "source": [
    "#Printing data of a single group\n",
    "g1.get_group('Chip')"
   ]
  },
  {
   "cell_type": "code",
   "execution_count": 13,
   "metadata": {},
   "outputs": [
    {
     "data": {
      "text/html": [
       "<div>\n",
       "<style scoped>\n",
       "    .dataframe tbody tr th:only-of-type {\n",
       "        vertical-align: middle;\n",
       "    }\n",
       "\n",
       "    .dataframe tbody tr th {\n",
       "        vertical-align: top;\n",
       "    }\n",
       "\n",
       "    .dataframe thead th {\n",
       "        text-align: right;\n",
       "    }\n",
       "</style>\n",
       "<table border=\"1\" class=\"dataframe\">\n",
       "  <thead>\n",
       "    <tr style=\"text-align: right;\">\n",
       "      <th></th>\n",
       "      <th></th>\n",
       "      <th>Math</th>\n",
       "      <th>Science</th>\n",
       "      <th>Engl</th>\n",
       "      <th>Hist</th>\n",
       "      <th>Liter</th>\n",
       "    </tr>\n",
       "    <tr>\n",
       "      <th>Name</th>\n",
       "      <th>UT</th>\n",
       "      <th></th>\n",
       "      <th></th>\n",
       "      <th></th>\n",
       "      <th></th>\n",
       "      <th></th>\n",
       "    </tr>\n",
       "  </thead>\n",
       "  <tbody>\n",
       "    <tr>\n",
       "      <th rowspan=\"3\" valign=\"top\">Alvin</th>\n",
       "      <th>1</th>\n",
       "      <td>22</td>\n",
       "      <td>21</td>\n",
       "      <td>18</td>\n",
       "      <td>20</td>\n",
       "      <td>21</td>\n",
       "    </tr>\n",
       "    <tr>\n",
       "      <th>2</th>\n",
       "      <td>21</td>\n",
       "      <td>20</td>\n",
       "      <td>17</td>\n",
       "      <td>22</td>\n",
       "      <td>24</td>\n",
       "    </tr>\n",
       "    <tr>\n",
       "      <th>3</th>\n",
       "      <td>14</td>\n",
       "      <td>19</td>\n",
       "      <td>15</td>\n",
       "      <td>24</td>\n",
       "      <td>23</td>\n",
       "    </tr>\n",
       "    <tr>\n",
       "      <th rowspan=\"3\" valign=\"top\">Belle</th>\n",
       "      <th>1</th>\n",
       "      <td>20</td>\n",
       "      <td>17</td>\n",
       "      <td>22</td>\n",
       "      <td>24</td>\n",
       "      <td>19</td>\n",
       "    </tr>\n",
       "    <tr>\n",
       "      <th>2</th>\n",
       "      <td>23</td>\n",
       "      <td>15</td>\n",
       "      <td>21</td>\n",
       "      <td>25</td>\n",
       "      <td>15</td>\n",
       "    </tr>\n",
       "    <tr>\n",
       "      <th>3</th>\n",
       "      <td>22</td>\n",
       "      <td>18</td>\n",
       "      <td>19</td>\n",
       "      <td>23</td>\n",
       "      <td>13</td>\n",
       "    </tr>\n",
       "    <tr>\n",
       "      <th rowspan=\"3\" valign=\"top\">Chip</th>\n",
       "      <th>1</th>\n",
       "      <td>23</td>\n",
       "      <td>19</td>\n",
       "      <td>20</td>\n",
       "      <td>15</td>\n",
       "      <td>22</td>\n",
       "    </tr>\n",
       "    <tr>\n",
       "      <th>2</th>\n",
       "      <td>24</td>\n",
       "      <td>22</td>\n",
       "      <td>24</td>\n",
       "      <td>17</td>\n",
       "      <td>21</td>\n",
       "    </tr>\n",
       "    <tr>\n",
       "      <th>3</th>\n",
       "      <td>12</td>\n",
       "      <td>25</td>\n",
       "      <td>19</td>\n",
       "      <td>21</td>\n",
       "      <td>23</td>\n",
       "    </tr>\n",
       "    <tr>\n",
       "      <th rowspan=\"3\" valign=\"top\">Dale</th>\n",
       "      <th>1</th>\n",
       "      <td>15</td>\n",
       "      <td>22</td>\n",
       "      <td>25</td>\n",
       "      <td>22</td>\n",
       "      <td>22</td>\n",
       "    </tr>\n",
       "    <tr>\n",
       "      <th>2</th>\n",
       "      <td>18</td>\n",
       "      <td>21</td>\n",
       "      <td>25</td>\n",
       "      <td>24</td>\n",
       "      <td>23</td>\n",
       "    </tr>\n",
       "    <tr>\n",
       "      <th>3</th>\n",
       "      <td>17</td>\n",
       "      <td>18</td>\n",
       "      <td>20</td>\n",
       "      <td>25</td>\n",
       "      <td>20</td>\n",
       "    </tr>\n",
       "  </tbody>\n",
       "</table>\n",
       "</div>"
      ],
      "text/plain": [
       "          Math  Science  Engl  Hist  Liter\n",
       "Name  UT                                  \n",
       "Alvin 1     22       21    18    20     21\n",
       "      2     21       20    17    22     24\n",
       "      3     14       19    15    24     23\n",
       "Belle 1     20       17    22    24     19\n",
       "      2     23       15    21    25     15\n",
       "      3     22       18    19    23     13\n",
       "Chip  1     23       19    20    15     22\n",
       "      2     24       22    24    17     21\n",
       "      3     12       25    19    21     23\n",
       "Dale  1     15       22    25    22     22\n",
       "      2     18       21    25    24     23\n",
       "      3     17       18    20    25     20"
      ]
     },
     "execution_count": 13,
     "metadata": {},
     "output_type": "execute_result"
    }
   ],
   "source": [
    "#Grouping with respect to multiple attributes\n",
    "#Creating a GROUP BY Name and UT\n",
    "g2=df.groupby(['Name','UT'])\n",
    "g2.first()"
   ]
  },
  {
   "cell_type": "code",
   "execution_count": 14,
   "metadata": {},
   "outputs": [
    {
     "data": {
      "text/html": [
       "<div>\n",
       "<style scoped>\n",
       "    .dataframe tbody tr th:only-of-type {\n",
       "        vertical-align: middle;\n",
       "    }\n",
       "\n",
       "    .dataframe tbody tr th {\n",
       "        vertical-align: top;\n",
       "    }\n",
       "\n",
       "    .dataframe thead th {\n",
       "        text-align: right;\n",
       "    }\n",
       "</style>\n",
       "<table border=\"1\" class=\"dataframe\">\n",
       "  <thead>\n",
       "    <tr style=\"text-align: right;\">\n",
       "      <th></th>\n",
       "      <th>Math</th>\n",
       "      <th>Science</th>\n",
       "      <th>Engl</th>\n",
       "      <th>Hist</th>\n",
       "      <th>Liter</th>\n",
       "    </tr>\n",
       "    <tr>\n",
       "      <th>UT</th>\n",
       "      <th></th>\n",
       "      <th></th>\n",
       "      <th></th>\n",
       "      <th></th>\n",
       "      <th></th>\n",
       "    </tr>\n",
       "  </thead>\n",
       "  <tbody>\n",
       "    <tr>\n",
       "      <th>1</th>\n",
       "      <td>20.00</td>\n",
       "      <td>19.75</td>\n",
       "      <td>21.25</td>\n",
       "      <td>20.25</td>\n",
       "      <td>21.00</td>\n",
       "    </tr>\n",
       "    <tr>\n",
       "      <th>2</th>\n",
       "      <td>21.50</td>\n",
       "      <td>19.50</td>\n",
       "      <td>21.75</td>\n",
       "      <td>22.00</td>\n",
       "      <td>20.75</td>\n",
       "    </tr>\n",
       "    <tr>\n",
       "      <th>3</th>\n",
       "      <td>16.25</td>\n",
       "      <td>20.00</td>\n",
       "      <td>18.25</td>\n",
       "      <td>23.25</td>\n",
       "      <td>19.75</td>\n",
       "    </tr>\n",
       "  </tbody>\n",
       "</table>\n",
       "</div>"
      ],
      "text/plain": [
       "     Math  Science   Engl   Hist  Liter\n",
       "UT                                     \n",
       "1   20.00    19.75  21.25  20.25  21.00\n",
       "2   21.50    19.50  21.75  22.00  20.75\n",
       "3   16.25    20.00  18.25  23.25  19.75"
      ]
     },
     "execution_count": 14,
     "metadata": {},
     "output_type": "execute_result"
    }
   ],
   "source": [
    "#Calculating average marks scored by all\n",
    "#students in each subject for each UT\n",
    "df.groupby(['UT']).aggregate('mean')"
   ]
  },
  {
   "cell_type": "code",
   "execution_count": 15,
   "metadata": {},
   "outputs": [
    {
     "data": {
      "text/plain": [
       "UT\n",
       "1    20.00\n",
       "2    21.50\n",
       "3    16.25\n",
       "Name: Math, dtype: float64"
      ]
     },
     "execution_count": 15,
     "metadata": {},
     "output_type": "execute_result"
    }
   ],
   "source": [
    "#Calculate average marks scored in Maths in each UT\n",
    "group1=df.groupby(['UT'])\n",
    "group1['Math'].aggregate('mean')"
   ]
  },
  {
   "cell_type": "code",
   "execution_count": 16,
   "metadata": {},
   "outputs": [
    {
     "data": {
      "text/html": [
       "<div>\n",
       "<style scoped>\n",
       "    .dataframe tbody tr th:only-of-type {\n",
       "        vertical-align: middle;\n",
       "    }\n",
       "\n",
       "    .dataframe tbody tr th {\n",
       "        vertical-align: top;\n",
       "    }\n",
       "\n",
       "    .dataframe thead th {\n",
       "        text-align: right;\n",
       "    }\n",
       "</style>\n",
       "<table border=\"1\" class=\"dataframe\">\n",
       "  <thead>\n",
       "    <tr style=\"text-align: right;\">\n",
       "      <th></th>\n",
       "      <th>mean</th>\n",
       "      <th>var</th>\n",
       "      <th>std</th>\n",
       "      <th>quantile</th>\n",
       "    </tr>\n",
       "    <tr>\n",
       "      <th>Name</th>\n",
       "      <th></th>\n",
       "      <th></th>\n",
       "      <th></th>\n",
       "      <th></th>\n",
       "    </tr>\n",
       "  </thead>\n",
       "  <tbody>\n",
       "    <tr>\n",
       "      <th>Alvin</th>\n",
       "      <td>19.000000</td>\n",
       "      <td>19.000000</td>\n",
       "      <td>4.358899</td>\n",
       "      <td>21.0</td>\n",
       "    </tr>\n",
       "    <tr>\n",
       "      <th>Belle</th>\n",
       "      <td>21.666667</td>\n",
       "      <td>2.333333</td>\n",
       "      <td>1.527525</td>\n",
       "      <td>22.0</td>\n",
       "    </tr>\n",
       "    <tr>\n",
       "      <th>Chip</th>\n",
       "      <td>19.666667</td>\n",
       "      <td>44.333333</td>\n",
       "      <td>6.658328</td>\n",
       "      <td>23.0</td>\n",
       "    </tr>\n",
       "    <tr>\n",
       "      <th>Dale</th>\n",
       "      <td>16.666667</td>\n",
       "      <td>2.333333</td>\n",
       "      <td>1.527525</td>\n",
       "      <td>17.0</td>\n",
       "    </tr>\n",
       "  </tbody>\n",
       "</table>\n",
       "</div>"
      ],
      "text/plain": [
       "            mean        var       std  quantile\n",
       "Name                                           \n",
       "Alvin  19.000000  19.000000  4.358899      21.0\n",
       "Belle  21.666667   2.333333  1.527525      22.0\n",
       "Chip   19.666667  44.333333  6.658328      23.0\n",
       "Dale   16.666667   2.333333  1.527525      17.0"
      ]
     },
     "execution_count": 16,
     "metadata": {},
     "output_type": "execute_result"
    }
   ],
   "source": [
    "df.groupby(by='Name')['Math'].agg(['mean','var','std','quantile'])"
   ]
  },
  {
   "cell_type": "markdown",
   "metadata": {},
   "source": [
    "# 3. Altering the Index"
   ]
  },
  {
   "cell_type": "code",
   "execution_count": 17,
   "metadata": {},
   "outputs": [
    {
     "data": {
      "text/html": [
       "<div>\n",
       "<style scoped>\n",
       "    .dataframe tbody tr th:only-of-type {\n",
       "        vertical-align: middle;\n",
       "    }\n",
       "\n",
       "    .dataframe tbody tr th {\n",
       "        vertical-align: top;\n",
       "    }\n",
       "\n",
       "    .dataframe thead th {\n",
       "        text-align: right;\n",
       "    }\n",
       "</style>\n",
       "<table border=\"1\" class=\"dataframe\">\n",
       "  <thead>\n",
       "    <tr style=\"text-align: right;\">\n",
       "      <th></th>\n",
       "      <th>Name</th>\n",
       "      <th>UT</th>\n",
       "      <th>Math</th>\n",
       "      <th>Science</th>\n",
       "      <th>Engl</th>\n",
       "      <th>Hist</th>\n",
       "      <th>Liter</th>\n",
       "    </tr>\n",
       "  </thead>\n",
       "  <tbody>\n",
       "    <tr>\n",
       "      <th>0</th>\n",
       "      <td>Alvin</td>\n",
       "      <td>1</td>\n",
       "      <td>22</td>\n",
       "      <td>21</td>\n",
       "      <td>18</td>\n",
       "      <td>20</td>\n",
       "      <td>21</td>\n",
       "    </tr>\n",
       "    <tr>\n",
       "      <th>1</th>\n",
       "      <td>Alvin</td>\n",
       "      <td>2</td>\n",
       "      <td>21</td>\n",
       "      <td>20</td>\n",
       "      <td>17</td>\n",
       "      <td>22</td>\n",
       "      <td>24</td>\n",
       "    </tr>\n",
       "    <tr>\n",
       "      <th>2</th>\n",
       "      <td>Alvin</td>\n",
       "      <td>3</td>\n",
       "      <td>14</td>\n",
       "      <td>19</td>\n",
       "      <td>15</td>\n",
       "      <td>24</td>\n",
       "      <td>23</td>\n",
       "    </tr>\n",
       "    <tr>\n",
       "      <th>3</th>\n",
       "      <td>Belle</td>\n",
       "      <td>1</td>\n",
       "      <td>20</td>\n",
       "      <td>17</td>\n",
       "      <td>22</td>\n",
       "      <td>24</td>\n",
       "      <td>19</td>\n",
       "    </tr>\n",
       "    <tr>\n",
       "      <th>4</th>\n",
       "      <td>Belle</td>\n",
       "      <td>2</td>\n",
       "      <td>23</td>\n",
       "      <td>15</td>\n",
       "      <td>21</td>\n",
       "      <td>25</td>\n",
       "      <td>15</td>\n",
       "    </tr>\n",
       "    <tr>\n",
       "      <th>5</th>\n",
       "      <td>Belle</td>\n",
       "      <td>3</td>\n",
       "      <td>22</td>\n",
       "      <td>18</td>\n",
       "      <td>19</td>\n",
       "      <td>23</td>\n",
       "      <td>13</td>\n",
       "    </tr>\n",
       "    <tr>\n",
       "      <th>6</th>\n",
       "      <td>Chip</td>\n",
       "      <td>1</td>\n",
       "      <td>23</td>\n",
       "      <td>19</td>\n",
       "      <td>20</td>\n",
       "      <td>15</td>\n",
       "      <td>22</td>\n",
       "    </tr>\n",
       "    <tr>\n",
       "      <th>7</th>\n",
       "      <td>Chip</td>\n",
       "      <td>2</td>\n",
       "      <td>24</td>\n",
       "      <td>22</td>\n",
       "      <td>24</td>\n",
       "      <td>17</td>\n",
       "      <td>21</td>\n",
       "    </tr>\n",
       "    <tr>\n",
       "      <th>8</th>\n",
       "      <td>Chip</td>\n",
       "      <td>3</td>\n",
       "      <td>12</td>\n",
       "      <td>25</td>\n",
       "      <td>19</td>\n",
       "      <td>21</td>\n",
       "      <td>23</td>\n",
       "    </tr>\n",
       "    <tr>\n",
       "      <th>9</th>\n",
       "      <td>Dale</td>\n",
       "      <td>1</td>\n",
       "      <td>15</td>\n",
       "      <td>22</td>\n",
       "      <td>25</td>\n",
       "      <td>22</td>\n",
       "      <td>22</td>\n",
       "    </tr>\n",
       "    <tr>\n",
       "      <th>10</th>\n",
       "      <td>Dale</td>\n",
       "      <td>2</td>\n",
       "      <td>18</td>\n",
       "      <td>21</td>\n",
       "      <td>25</td>\n",
       "      <td>24</td>\n",
       "      <td>23</td>\n",
       "    </tr>\n",
       "    <tr>\n",
       "      <th>11</th>\n",
       "      <td>Dale</td>\n",
       "      <td>3</td>\n",
       "      <td>17</td>\n",
       "      <td>18</td>\n",
       "      <td>20</td>\n",
       "      <td>25</td>\n",
       "      <td>20</td>\n",
       "    </tr>\n",
       "  </tbody>\n",
       "</table>\n",
       "</div>"
      ],
      "text/plain": [
       "     Name  UT  Math  Science  Engl  Hist  Liter\n",
       "0   Alvin   1    22       21    18    20     21\n",
       "1   Alvin   2    21       20    17    22     24\n",
       "2   Alvin   3    14       19    15    24     23\n",
       "3   Belle   1    20       17    22    24     19\n",
       "4   Belle   2    23       15    21    25     15\n",
       "5   Belle   3    22       18    19    23     13\n",
       "6    Chip   1    23       19    20    15     22\n",
       "7    Chip   2    24       22    24    17     21\n",
       "8    Chip   3    12       25    19    21     23\n",
       "9    Dale   1    15       22    25    22     22\n",
       "10   Dale   2    18       21    25    24     23\n",
       "11   Dale   3    17       18    20    25     20"
      ]
     },
     "execution_count": 17,
     "metadata": {},
     "output_type": "execute_result"
    }
   ],
   "source": [
    "df"
   ]
  },
  {
   "cell_type": "code",
   "execution_count": 18,
   "metadata": {},
   "outputs": [
    {
     "name": "stdout",
     "output_type": "stream",
     "text": [
      "    Name  UT  Math  Science  Engl  Hist  Liter\n",
      "0  Alvin   1    22       21    18    20     21\n",
      "3  Belle   1    20       17    22    24     19\n",
      "6   Chip   1    23       19    20    15     22\n",
      "9   Dale   1    15       22    25    22     22\n"
     ]
    }
   ],
   "source": [
    "dfUT1 = df[df.UT == 1]\n",
    "print(dfUT1)    "
   ]
  },
  {
   "cell_type": "code",
   "execution_count": 19,
   "metadata": {},
   "outputs": [
    {
     "name": "stdout",
     "output_type": "stream",
     "text": [
      "   index   Name  UT  Math  Science  Engl  Hist  Liter\n",
      "0      0  Alvin   1    22       21    18    20     21\n",
      "1      3  Belle   1    20       17    22    24     19\n",
      "2      6   Chip   1    23       19    20    15     22\n",
      "3      9   Dale   1    15       22    25    22     22\n"
     ]
    }
   ],
   "source": [
    "dfUT1.reset_index(inplace=True)\n",
    "print(dfUT1)"
   ]
  },
  {
   "cell_type": "code",
   "execution_count": 20,
   "metadata": {},
   "outputs": [
    {
     "name": "stdout",
     "output_type": "stream",
     "text": [
      "    Name  UT  Math  Science  Engl  Hist  Liter\n",
      "0  Alvin   1    22       21    18    20     21\n",
      "1  Belle   1    20       17    22    24     19\n",
      "2   Chip   1    23       19    20    15     22\n",
      "3   Dale   1    15       22    25    22     22\n"
     ]
    },
    {
     "name": "stderr",
     "output_type": "stream",
     "text": [
      "/var/folders/k3/93bf5ryn5057n3c5qrfhj_540000gn/T/ipykernel_12147/3734231493.py:1: SettingWithCopyWarning: \n",
      "A value is trying to be set on a copy of a slice from a DataFrame\n",
      "\n",
      "See the caveats in the documentation: https://pandas.pydata.org/pandas-docs/stable/user_guide/indexing.html#returning-a-view-versus-a-copy\n",
      "  dfUT1.drop(columns=['index'],inplace=True)\n"
     ]
    }
   ],
   "source": [
    "dfUT1.drop(columns=['index'],inplace=True)\n",
    "print(dfUT1)"
   ]
  },
  {
   "cell_type": "code",
   "execution_count": 21,
   "metadata": {},
   "outputs": [
    {
     "name": "stdout",
     "output_type": "stream",
     "text": [
      "       Name  UT  Math  Science  Engl  Liter\n",
      "Hist                                       \n",
      "20    Alvin   1    22       21    18     21\n",
      "24    Belle   1    20       17    22     19\n",
      "15     Chip   1    23       19    20     22\n",
      "22     Dale   1    15       22    25     22\n"
     ]
    }
   ],
   "source": [
    "dfUT1.set_index('Hist',inplace=True)\n",
    "print(dfUT1)"
   ]
  },
  {
   "cell_type": "code",
   "execution_count": 22,
   "metadata": {},
   "outputs": [
    {
     "name": "stdout",
     "output_type": "stream",
     "text": [
      "   Hist   Name  UT  Math  Science  Engl  Liter\n",
      "0    20  Alvin   1    22       21    18     21\n",
      "1    24  Belle   1    20       17    22     19\n",
      "2    15   Chip   1    23       19    20     22\n",
      "3    22   Dale   1    15       22    25     22\n"
     ]
    }
   ],
   "source": [
    "dfUT1.reset_index('Hist', inplace = True)\n",
    "print(dfUT1)"
   ]
  },
  {
   "cell_type": "markdown",
   "metadata": {},
   "source": [
    "# 5. Other dataFrame operatIons"
   ]
  },
  {
   "cell_type": "markdown",
   "metadata": {},
   "source": [
    "## 5.1. Reshaping Data"
   ]
  },
  {
   "cell_type": "markdown",
   "metadata": {},
   "source": [
    "### _(A) Pivot_ "
   ]
  },
  {
   "cell_type": "code",
   "execution_count": 23,
   "metadata": {},
   "outputs": [],
   "source": [
    "data={'Store':['S1','S4','S3','S1','S2','S3','S1','S2','S3'], 'Year':[2016,2016,2016,2017,2017,2017,2018,2018,2018],\n",
    "'Total_sales(Rs)':[12000,330000,420000,20000,10000,450000,30000, 11000,89000],\n",
    "'Total_profit(Rs)':[1100,5500,21000,32000,9000,45000,3000,1900,23000]\n",
    "}"
   ]
  },
  {
   "cell_type": "code",
   "execution_count": 24,
   "metadata": {},
   "outputs": [
    {
     "name": "stdout",
     "output_type": "stream",
     "text": [
      "  Store  Year  Total_sales(Rs)  Total_profit(Rs)\n",
      "0    S1  2016            12000              1100\n",
      "1    S4  2016           330000              5500\n",
      "2    S3  2016           420000             21000\n",
      "3    S1  2017            20000             32000\n",
      "4    S2  2017            10000              9000\n",
      "5    S3  2017           450000             45000\n",
      "6    S1  2018            30000              3000\n",
      "7    S2  2018            11000              1900\n",
      "8    S3  2018            89000             23000\n"
     ]
    }
   ],
   "source": [
    "df=pd.DataFrame(data)\n",
    "print(df)"
   ]
  },
  {
   "cell_type": "code",
   "execution_count": 25,
   "metadata": {},
   "outputs": [
    {
     "data": {
      "text/plain": [
       "62000"
      ]
     },
     "execution_count": 25,
     "metadata": {},
     "output_type": "execute_result"
    }
   ],
   "source": [
    "# 1) \n",
    "#will get the data related to store S1\n",
    "S1df = df[df.Store=='S1']\n",
    "#find the total of sales for Store S1\n",
    "S1df['Total_sales(Rs)'].sum()"
   ]
  },
  {
   "cell_type": "code",
   "execution_count": 26,
   "metadata": {},
   "outputs": [
    {
     "data": {
      "text/plain": [
       "450000"
      ]
     },
     "execution_count": 26,
     "metadata": {},
     "output_type": "execute_result"
    }
   ],
   "source": [
    "# 2)\n",
    "#will get the data related to store S3\n",
    "S3df = df[df.Store=='S3']\n",
    "#find the maximum sale for Store S3\n",
    "S3df['Total_sales(Rs)'].max()"
   ]
  },
  {
   "cell_type": "code",
   "execution_count": 27,
   "metadata": {},
   "outputs": [
    {
     "data": {
      "text/plain": [
       "959000"
      ]
     },
     "execution_count": 27,
     "metadata": {},
     "output_type": "execute_result"
    }
   ],
   "source": [
    "# 3) \n",
    "S1df = df[df.Store=='S1']\n",
    "S2df=df[df.Store == 'S2']\n",
    "S3df = df[df.Store=='S3']\n",
    "S4df = df[df.Store=='S4']\n",
    "S1total = S1df['Total_sales(Rs)'].sum()\n",
    "S2total = S2df['Total_sales(Rs)'].sum()\n",
    "S3total = S3df['Total_sales(Rs)'].sum()\n",
    "S4total = S4df['Total_sales(Rs)'].sum()\n",
    "max(S1total,S2total,S3total,S4total)"
   ]
  },
  {
   "cell_type": "code",
   "execution_count": 28,
   "metadata": {},
   "outputs": [],
   "source": [
    "pivot1=df.pivot(index='Store',columns='Year',values='Total_sales(Rs)')"
   ]
  },
  {
   "cell_type": "code",
   "execution_count": 29,
   "metadata": {},
   "outputs": [
    {
     "name": "stdout",
     "output_type": "stream",
     "text": [
      "Year       2016      2017     2018\n",
      "Store                             \n",
      "S1      12000.0   20000.0  30000.0\n",
      "S2          NaN   10000.0  11000.0\n",
      "S3     420000.0  450000.0  89000.0\n",
      "S4     330000.0       NaN      NaN\n"
     ]
    }
   ],
   "source": [
    "print(pivot1)"
   ]
  },
  {
   "cell_type": "code",
   "execution_count": 30,
   "metadata": {},
   "outputs": [
    {
     "data": {
      "text/plain": [
       "62000.0"
      ]
     },
     "execution_count": 30,
     "metadata": {},
     "output_type": "execute_result"
    }
   ],
   "source": [
    "#1.1. \n",
    "pivot1.loc['S1'].sum()"
   ]
  },
  {
   "cell_type": "code",
   "execution_count": 31,
   "metadata": {},
   "outputs": [
    {
     "data": {
      "text/plain": [
       "450000.0"
      ]
     },
     "execution_count": 31,
     "metadata": {},
     "output_type": "execute_result"
    }
   ],
   "source": [
    "#1.2.\n",
    "pivot1.loc['S3'].max()"
   ]
  },
  {
   "cell_type": "code",
   "execution_count": 32,
   "metadata": {},
   "outputs": [
    {
     "data": {
      "text/plain": [
       "959000.0"
      ]
     },
     "execution_count": 32,
     "metadata": {},
     "output_type": "execute_result"
    }
   ],
   "source": [
    "#1.3.\n",
    "S1total = pivot1.loc['S1'].sum()\n",
    "S2total = pivot1.loc['S2'].sum()\n",
    "S3total = pivot1.loc['S3'].sum()\n",
    "S4total = pivot1.loc['S4'].sum()\n",
    "max(S1total,S2total,S3total,S4total)"
   ]
  },
  {
   "cell_type": "markdown",
   "metadata": {},
   "source": [
    "### _B) Pivoting by Multiple Columns_ "
   ]
  },
  {
   "cell_type": "code",
   "execution_count": 33,
   "metadata": {},
   "outputs": [
    {
     "name": "stdout",
     "output_type": "stream",
     "text": [
      "      Total_sales(Rs)                    Total_profit(Rs)                  \n",
      "Year             2016      2017     2018             2016     2017     2018\n",
      "Store                                                                      \n",
      "S1            12000.0   20000.0  30000.0           1100.0  32000.0   3000.0\n",
      "S2                NaN   10000.0  11000.0              NaN   9000.0   1900.0\n",
      "S3           420000.0  450000.0  89000.0          21000.0  45000.0  23000.0\n",
      "S4           330000.0       NaN      NaN           5500.0      NaN      NaN\n"
     ]
    }
   ],
   "source": [
    "pivot2=df.pivot(index='Store',columns='Year',values=['Total_sales(Rs)','Total_profit(Rs)'])\n",
    "print(pivot2)"
   ]
  },
  {
   "cell_type": "code",
   "execution_count": 41,
   "metadata": {},
   "outputs": [
    {
     "name": "stdout",
     "output_type": "stream",
     "text": [
      "      Item  Color  Price(Rs)  Units_in_stock\n",
      "0      Pen    Red         10              50\n",
      "1     Pen2    Red         25              10\n",
      "2   Pencil  Black          7              47\n",
      "3  Pencil2  Black          5              34\n",
      "4   Marker   Blue         50              55\n",
      "5  Marker2   Blue         20              14\n"
     ]
    }
   ],
   "source": [
    "df=pd.DataFrame({'Item':['Pen','Pen2','Pencil','Pencil2','Marker','Marker2'],\n",
    "'Color':['Red','Red','Black','Black','Blue','Blue'],\n",
    "'Price(Rs)':[10,25,7,5,50,20],\n",
    "'Units_in_stock':[50,10,47,34,55,14]\n",
    "})\n",
    "print(df)"
   ]
  },
  {
   "cell_type": "code",
   "execution_count": 43,
   "metadata": {},
   "outputs": [
    {
     "data": {
      "text/html": [
       "<div>\n",
       "<style scoped>\n",
       "    .dataframe tbody tr th:only-of-type {\n",
       "        vertical-align: middle;\n",
       "    }\n",
       "\n",
       "    .dataframe tbody tr th {\n",
       "        vertical-align: top;\n",
       "    }\n",
       "\n",
       "    .dataframe thead th {\n",
       "        text-align: right;\n",
       "    }\n",
       "</style>\n",
       "<table border=\"1\" class=\"dataframe\">\n",
       "  <thead>\n",
       "    <tr style=\"text-align: right;\">\n",
       "      <th>Color</th>\n",
       "      <th>Black</th>\n",
       "      <th>Blue</th>\n",
       "      <th>Red</th>\n",
       "    </tr>\n",
       "    <tr>\n",
       "      <th>Item</th>\n",
       "      <th></th>\n",
       "      <th></th>\n",
       "      <th></th>\n",
       "    </tr>\n",
       "  </thead>\n",
       "  <tbody>\n",
       "    <tr>\n",
       "      <th>Marker</th>\n",
       "      <td>NaN</td>\n",
       "      <td>50.0</td>\n",
       "      <td>NaN</td>\n",
       "    </tr>\n",
       "    <tr>\n",
       "      <th>Marker2</th>\n",
       "      <td>NaN</td>\n",
       "      <td>20.0</td>\n",
       "      <td>NaN</td>\n",
       "    </tr>\n",
       "    <tr>\n",
       "      <th>Pen</th>\n",
       "      <td>NaN</td>\n",
       "      <td>NaN</td>\n",
       "      <td>10.0</td>\n",
       "    </tr>\n",
       "    <tr>\n",
       "      <th>Pen2</th>\n",
       "      <td>NaN</td>\n",
       "      <td>NaN</td>\n",
       "      <td>25.0</td>\n",
       "    </tr>\n",
       "    <tr>\n",
       "      <th>Pencil</th>\n",
       "      <td>7.0</td>\n",
       "      <td>NaN</td>\n",
       "      <td>NaN</td>\n",
       "    </tr>\n",
       "    <tr>\n",
       "      <th>Pencil2</th>\n",
       "      <td>5.0</td>\n",
       "      <td>NaN</td>\n",
       "      <td>NaN</td>\n",
       "    </tr>\n",
       "  </tbody>\n",
       "</table>\n",
       "</div>"
      ],
      "text/plain": [
       "Color    Black  Blue   Red\n",
       "Item                      \n",
       "Marker     NaN  50.0   NaN\n",
       "Marker2    NaN  20.0   NaN\n",
       "Pen        NaN   NaN  10.0\n",
       "Pen2       NaN   NaN  25.0\n",
       "Pencil     7.0   NaN   NaN\n",
       "Pencil2    5.0   NaN   NaN"
      ]
     },
     "execution_count": 43,
     "metadata": {},
     "output_type": "execute_result"
    }
   ],
   "source": [
    "pivot3=df.pivot(index='Item',columns='Color',values='Price(Rs)')\n",
    "pivot3"
   ]
  },
  {
   "cell_type": "markdown",
   "metadata": {},
   "source": [
    "### _C) Pivot Table_"
   ]
  },
  {
   "cell_type": "markdown",
   "metadata": {},
   "source": [
    "## Syntax:\n",
    "_pandas.pivot_table(data, values=None,index=None,columns=None, aggfunc='mean')_"
   ]
  },
  {
   "cell_type": "code",
   "execution_count": 44,
   "metadata": {},
   "outputs": [],
   "source": [
    "df1 = df.pivot_table(index=['Item','Color']) # default  aggfunc = 'mean'"
   ]
  },
  {
   "cell_type": "code",
   "execution_count": 45,
   "metadata": {},
   "outputs": [
    {
     "name": "stdout",
     "output_type": "stream",
     "text": [
      "               Price(Rs)  Units_in_stock\n",
      "Item    Color                           \n",
      "Marker  Blue          50              55\n",
      "Marker2 Blue          20              14\n",
      "Pen     Red           10              50\n",
      "Pen2    Red           25              10\n",
      "Pencil  Black          7              47\n",
      "Pencil2 Black          5              34\n"
     ]
    }
   ],
   "source": [
    "print(df1)"
   ]
  },
  {
   "cell_type": "code",
   "execution_count": 46,
   "metadata": {},
   "outputs": [
    {
     "data": {
      "text/html": [
       "<div>\n",
       "<style scoped>\n",
       "    .dataframe tbody tr th:only-of-type {\n",
       "        vertical-align: middle;\n",
       "    }\n",
       "\n",
       "    .dataframe tbody tr th {\n",
       "        vertical-align: top;\n",
       "    }\n",
       "\n",
       "    .dataframe thead tr th {\n",
       "        text-align: left;\n",
       "    }\n",
       "\n",
       "    .dataframe thead tr:last-of-type th {\n",
       "        text-align: right;\n",
       "    }\n",
       "</style>\n",
       "<table border=\"1\" class=\"dataframe\">\n",
       "  <thead>\n",
       "    <tr>\n",
       "      <th></th>\n",
       "      <th colspan=\"3\" halign=\"left\">sum</th>\n",
       "      <th colspan=\"3\" halign=\"left\">max</th>\n",
       "      <th colspan=\"3\" halign=\"left\">mean</th>\n",
       "    </tr>\n",
       "    <tr>\n",
       "      <th>Color</th>\n",
       "      <th>Black</th>\n",
       "      <th>Blue</th>\n",
       "      <th>Red</th>\n",
       "      <th>Black</th>\n",
       "      <th>Blue</th>\n",
       "      <th>Red</th>\n",
       "      <th>Black</th>\n",
       "      <th>Blue</th>\n",
       "      <th>Red</th>\n",
       "    </tr>\n",
       "    <tr>\n",
       "      <th>Item</th>\n",
       "      <th></th>\n",
       "      <th></th>\n",
       "      <th></th>\n",
       "      <th></th>\n",
       "      <th></th>\n",
       "      <th></th>\n",
       "      <th></th>\n",
       "      <th></th>\n",
       "      <th></th>\n",
       "    </tr>\n",
       "  </thead>\n",
       "  <tbody>\n",
       "    <tr>\n",
       "      <th>Marker</th>\n",
       "      <td>NaN</td>\n",
       "      <td>55.0</td>\n",
       "      <td>NaN</td>\n",
       "      <td>NaN</td>\n",
       "      <td>55.0</td>\n",
       "      <td>NaN</td>\n",
       "      <td>NaN</td>\n",
       "      <td>55.0</td>\n",
       "      <td>NaN</td>\n",
       "    </tr>\n",
       "    <tr>\n",
       "      <th>Marker2</th>\n",
       "      <td>NaN</td>\n",
       "      <td>14.0</td>\n",
       "      <td>NaN</td>\n",
       "      <td>NaN</td>\n",
       "      <td>14.0</td>\n",
       "      <td>NaN</td>\n",
       "      <td>NaN</td>\n",
       "      <td>14.0</td>\n",
       "      <td>NaN</td>\n",
       "    </tr>\n",
       "    <tr>\n",
       "      <th>Pen</th>\n",
       "      <td>NaN</td>\n",
       "      <td>NaN</td>\n",
       "      <td>50.0</td>\n",
       "      <td>NaN</td>\n",
       "      <td>NaN</td>\n",
       "      <td>50.0</td>\n",
       "      <td>NaN</td>\n",
       "      <td>NaN</td>\n",
       "      <td>50.0</td>\n",
       "    </tr>\n",
       "    <tr>\n",
       "      <th>Pen2</th>\n",
       "      <td>NaN</td>\n",
       "      <td>NaN</td>\n",
       "      <td>10.0</td>\n",
       "      <td>NaN</td>\n",
       "      <td>NaN</td>\n",
       "      <td>10.0</td>\n",
       "      <td>NaN</td>\n",
       "      <td>NaN</td>\n",
       "      <td>10.0</td>\n",
       "    </tr>\n",
       "    <tr>\n",
       "      <th>Pencil</th>\n",
       "      <td>47.0</td>\n",
       "      <td>NaN</td>\n",
       "      <td>NaN</td>\n",
       "      <td>47.0</td>\n",
       "      <td>NaN</td>\n",
       "      <td>NaN</td>\n",
       "      <td>47.0</td>\n",
       "      <td>NaN</td>\n",
       "      <td>NaN</td>\n",
       "    </tr>\n",
       "    <tr>\n",
       "      <th>Pencil2</th>\n",
       "      <td>34.0</td>\n",
       "      <td>NaN</td>\n",
       "      <td>NaN</td>\n",
       "      <td>34.0</td>\n",
       "      <td>NaN</td>\n",
       "      <td>NaN</td>\n",
       "      <td>34.0</td>\n",
       "      <td>NaN</td>\n",
       "      <td>NaN</td>\n",
       "    </tr>\n",
       "  </tbody>\n",
       "</table>\n",
       "</div>"
      ],
      "text/plain": [
       "          sum               max              mean            \n",
       "Color   Black  Blue   Red Black  Blue   Red Black  Blue   Red\n",
       "Item                                                         \n",
       "Marker    NaN  55.0   NaN   NaN  55.0   NaN   NaN  55.0   NaN\n",
       "Marker2   NaN  14.0   NaN   NaN  14.0   NaN   NaN  14.0   NaN\n",
       "Pen       NaN   NaN  50.0   NaN   NaN  50.0   NaN   NaN  50.0\n",
       "Pen2      NaN   NaN  10.0   NaN   NaN  10.0   NaN   NaN  10.0\n",
       "Pencil   47.0   NaN   NaN  47.0   NaN   NaN  47.0   NaN   NaN\n",
       "Pencil2  34.0   NaN   NaN  34.0   NaN   NaN  34.0   NaN   NaN"
      ]
     },
     "execution_count": 46,
     "metadata": {},
     "output_type": "execute_result"
    }
   ],
   "source": [
    "import numpy as np\n",
    "pivot_table1=df.pivot_table(index='Item',columns='Color',values='Units_in_stock',aggfunc=[sum,max,np.mean])\n",
    "pivot_table1"
   ]
  },
  {
   "cell_type": "code",
   "execution_count": 47,
   "metadata": {},
   "outputs": [
    {
     "data": {
      "text/html": [
       "<div>\n",
       "<style scoped>\n",
       "    .dataframe tbody tr th:only-of-type {\n",
       "        vertical-align: middle;\n",
       "    }\n",
       "\n",
       "    .dataframe tbody tr th {\n",
       "        vertical-align: top;\n",
       "    }\n",
       "\n",
       "    .dataframe thead tr th {\n",
       "        text-align: left;\n",
       "    }\n",
       "\n",
       "    .dataframe thead tr:last-of-type th {\n",
       "        text-align: right;\n",
       "    }\n",
       "</style>\n",
       "<table border=\"1\" class=\"dataframe\">\n",
       "  <thead>\n",
       "    <tr>\n",
       "      <th></th>\n",
       "      <th colspan=\"3\" halign=\"left\">Price(Rs)</th>\n",
       "      <th colspan=\"3\" halign=\"left\">Units_in_stock</th>\n",
       "    </tr>\n",
       "    <tr>\n",
       "      <th>Color</th>\n",
       "      <th>Black</th>\n",
       "      <th>Blue</th>\n",
       "      <th>Red</th>\n",
       "      <th>Black</th>\n",
       "      <th>Blue</th>\n",
       "      <th>Red</th>\n",
       "    </tr>\n",
       "    <tr>\n",
       "      <th>Item</th>\n",
       "      <th></th>\n",
       "      <th></th>\n",
       "      <th></th>\n",
       "      <th></th>\n",
       "      <th></th>\n",
       "      <th></th>\n",
       "    </tr>\n",
       "  </thead>\n",
       "  <tbody>\n",
       "    <tr>\n",
       "      <th>Marker</th>\n",
       "      <td>NaN</td>\n",
       "      <td>1.0</td>\n",
       "      <td>NaN</td>\n",
       "      <td>NaN</td>\n",
       "      <td>55.0</td>\n",
       "      <td>NaN</td>\n",
       "    </tr>\n",
       "    <tr>\n",
       "      <th>Marker2</th>\n",
       "      <td>NaN</td>\n",
       "      <td>1.0</td>\n",
       "      <td>NaN</td>\n",
       "      <td>NaN</td>\n",
       "      <td>14.0</td>\n",
       "      <td>NaN</td>\n",
       "    </tr>\n",
       "    <tr>\n",
       "      <th>Pen</th>\n",
       "      <td>NaN</td>\n",
       "      <td>NaN</td>\n",
       "      <td>1.0</td>\n",
       "      <td>NaN</td>\n",
       "      <td>NaN</td>\n",
       "      <td>50.0</td>\n",
       "    </tr>\n",
       "    <tr>\n",
       "      <th>Pen2</th>\n",
       "      <td>NaN</td>\n",
       "      <td>NaN</td>\n",
       "      <td>1.0</td>\n",
       "      <td>NaN</td>\n",
       "      <td>NaN</td>\n",
       "      <td>10.0</td>\n",
       "    </tr>\n",
       "    <tr>\n",
       "      <th>Pencil</th>\n",
       "      <td>1.0</td>\n",
       "      <td>NaN</td>\n",
       "      <td>NaN</td>\n",
       "      <td>47.0</td>\n",
       "      <td>NaN</td>\n",
       "      <td>NaN</td>\n",
       "    </tr>\n",
       "    <tr>\n",
       "      <th>Pencil2</th>\n",
       "      <td>1.0</td>\n",
       "      <td>NaN</td>\n",
       "      <td>NaN</td>\n",
       "      <td>34.0</td>\n",
       "      <td>NaN</td>\n",
       "      <td>NaN</td>\n",
       "    </tr>\n",
       "  </tbody>\n",
       "</table>\n",
       "</div>"
      ],
      "text/plain": [
       "        Price(Rs)           Units_in_stock            \n",
       "Color       Black Blue  Red          Black  Blue   Red\n",
       "Item                                                  \n",
       "Marker        NaN  1.0  NaN            NaN  55.0   NaN\n",
       "Marker2       NaN  1.0  NaN            NaN  14.0   NaN\n",
       "Pen           NaN  NaN  1.0            NaN   NaN  50.0\n",
       "Pen2          NaN  NaN  1.0            NaN   NaN  10.0\n",
       "Pencil        1.0  NaN  NaN           47.0   NaN   NaN\n",
       "Pencil2       1.0  NaN  NaN           34.0   NaN   NaN"
      ]
     },
     "execution_count": 47,
     "metadata": {},
     "output_type": "execute_result"
    }
   ],
   "source": [
    "pivot_table1=df.pivot_table(index='Item',columns='Color',values=['Price(Rs)','Units_in_stock'],aggfunc={\"Price(Rs)\":len,\"Units_in_stock\":np.mean})\n",
    "pivot_table1"
   ]
  },
  {
   "cell_type": "code",
   "execution_count": 48,
   "metadata": {},
   "outputs": [],
   "source": [
    "dfpen=df[df.Item=='Pen']\n",
    "pivot_redpen=dfpen.pivot_table(index='Item',columns=['Color'],values=['Price(Rs)'],aggfunc=[max])"
   ]
  },
  {
   "cell_type": "code",
   "execution_count": 49,
   "metadata": {},
   "outputs": [
    {
     "name": "stdout",
     "output_type": "stream",
     "text": [
      "            max\n",
      "      Price(Rs)\n",
      "Color       Red\n",
      "Item           \n",
      "Pen          10\n"
     ]
    }
   ],
   "source": [
    "print(pivot_redpen)"
   ]
  },
  {
   "cell_type": "markdown",
   "metadata": {},
   "source": [
    "# 6. HandlIng Missing Values"
   ]
  },
  {
   "cell_type": "code",
   "execution_count": 50,
   "metadata": {},
   "outputs": [
    {
     "name": "stdout",
     "output_type": "stream",
     "text": [
      "     Name     UT   Math  Science   Engl   Hist  Liter\n",
      "0   False  False  False    False  False  False  False\n",
      "1   False  False  False    False  False  False  False\n",
      "2   False  False  False    False  False  False  False\n",
      "3   False  False   True     True  False  False   True\n",
      "4   False  False  False     True  False  False  False\n",
      "5   False  False  False    False  False  False  False\n",
      "6   False  False  False    False  False  False  False\n",
      "7   False  False  False    False  False  False  False\n",
      "8   False  False  False    False  False  False  False\n",
      "9   False  False  False    False  False  False  False\n",
      "10  False  False  False    False  False  False  False\n",
      "11  False  False  False    False  False  False  False\n",
      "12  False  False  False    False  False  False  False\n",
      "13  False  False  False    False  False  False  False\n",
      "14  False  False  False    False  False  False  False\n",
      "15  False  False  False    False  False  False  False\n"
     ]
    }
   ],
   "source": [
    "import numpy as np\n",
    "marksUT = {\n",
    "'Name':['Alvin','Alvin','Alvin','Alvin','Belle','Belle','Belle','Belle','Chip','Chip','Chip','Chip','Dale','Dale','Dale','Dale'],\n",
    "'UT':[1,2,3,4,1,2,3,4,1,2,3,4,1,2,3,4],\n",
    "'Math':[22,21,14,np.NaN,20,23,22,19,23,24,12,15,15,18,17,14],\n",
    "'Science':[21,20,19,np.NaN,np.NaN,15,18,20,19,22,25,20,22,21,18,20],\n",
    "'Engl':[18,17,15,19,22,21,19,17,20,24,19,20,25,25,20,19],\n",
    "'Hist':[20,22,24,18,24,25,23,21, 15,17,21,20,22,24,25,20],\n",
    "'Liter':[21,24,23,np.NaN,19,15,13,16,22,21,23,17,22,23,20,18] }\n",
    "df = pd.DataFrame(marksUT)\n",
    "print(df.isnull())"
   ]
  },
  {
   "cell_type": "code",
   "execution_count": 51,
   "metadata": {},
   "outputs": [
    {
     "name": "stdout",
     "output_type": "stream",
     "text": [
      "0     False\n",
      "1     False\n",
      "2     False\n",
      "3      True\n",
      "4      True\n",
      "5     False\n",
      "6     False\n",
      "7     False\n",
      "8     False\n",
      "9     False\n",
      "10    False\n",
      "11    False\n",
      "12    False\n",
      "13    False\n",
      "14    False\n",
      "15    False\n",
      "Name: Science, dtype: bool\n"
     ]
    }
   ],
   "source": [
    "print(df['Science'].isnull())"
   ]
  },
  {
   "cell_type": "code",
   "execution_count": 52,
   "metadata": {},
   "outputs": [
    {
     "name": "stdout",
     "output_type": "stream",
     "text": [
      "Name       False\n",
      "UT         False\n",
      "Math        True\n",
      "Science     True\n",
      "Engl       False\n",
      "Hist       False\n",
      "Liter       True\n",
      "dtype: bool\n"
     ]
    }
   ],
   "source": [
    "print(df.isnull().any())"
   ]
  },
  {
   "cell_type": "code",
   "execution_count": 53,
   "metadata": {},
   "outputs": [
    {
     "name": "stdout",
     "output_type": "stream",
     "text": [
      "True\n"
     ]
    }
   ],
   "source": [
    "print(df['Science'].isnull().any())"
   ]
  },
  {
   "cell_type": "code",
   "execution_count": 54,
   "metadata": {},
   "outputs": [
    {
     "name": "stdout",
     "output_type": "stream",
     "text": [
      "False\n"
     ]
    }
   ],
   "source": [
    "print(df['Hist'].isnull().any())"
   ]
  },
  {
   "cell_type": "code",
   "execution_count": 55,
   "metadata": {},
   "outputs": [
    {
     "name": "stdout",
     "output_type": "stream",
     "text": [
      "Name       0\n",
      "UT         0\n",
      "Math       1\n",
      "Science    2\n",
      "Engl       0\n",
      "Hist       0\n",
      "Liter      1\n",
      "dtype: int64\n"
     ]
    }
   ],
   "source": [
    "print(df.isnull().sum())"
   ]
  },
  {
   "cell_type": "code",
   "execution_count": 56,
   "metadata": {},
   "outputs": [
    {
     "name": "stdout",
     "output_type": "stream",
     "text": [
      "4\n"
     ]
    }
   ],
   "source": [
    "print(df.isnull().sum().sum())"
   ]
  },
  {
   "cell_type": "code",
   "execution_count": 57,
   "metadata": {},
   "outputs": [
    {
     "name": "stdout",
     "output_type": "stream",
     "text": [
      "Marks Scored by Alvin \n",
      "\n",
      "     Name  UT  Math  Science  Engl  Hist  Liter\n",
      "0  Alvin   1  22.0     21.0    18    20   21.0\n",
      "1  Alvin   2  21.0     20.0    17    22   24.0\n",
      "2  Alvin   3  14.0     19.0    15    24   23.0\n",
      "3  Alvin   4   NaN      NaN    19    18    NaN\n"
     ]
    }
   ],
   "source": [
    "dfAlvin = df[df['Name']=='Alvin']\n",
    "print('Marks Scored by Alvin \\n\\n',dfAlvin)"
   ]
  },
  {
   "cell_type": "code",
   "execution_count": 58,
   "metadata": {},
   "outputs": [
    {
     "name": "stdout",
     "output_type": "stream",
     "text": [
      "Marks Scored by Alvin in History\n",
      "\n",
      " 0    20\n",
      "1    22\n",
      "2    24\n",
      "3    18\n",
      "Name: Hist, dtype: int64\n"
     ]
    }
   ],
   "source": [
    "dfHist = dfAlvin['Hist']\n",
    "print(\"Marks Scored by Alvin in History\\n\\n\",dfHist)"
   ]
  },
  {
   "cell_type": "code",
   "execution_count": 59,
   "metadata": {},
   "outputs": [],
   "source": [
    "row = len(dfHist) # Number of Unit Tests held. Here row will be 4"
   ]
  },
  {
   "cell_type": "code",
   "execution_count": 60,
   "metadata": {},
   "outputs": [
    {
     "name": "stdout",
     "output_type": "stream",
     "text": [
      "Percentage of Marks Scored by Alvin in History\n",
      "\n",
      " 84.0 %\n"
     ]
    }
   ],
   "source": [
    "print(\"Percentage of Marks Scored by Alvin in History\\n\\n\",(dfHist.sum()*100)/(25*row),\"%\")"
   ]
  },
  {
   "cell_type": "code",
   "execution_count": 61,
   "metadata": {},
   "outputs": [
    {
     "name": "stdout",
     "output_type": "stream",
     "text": [
      "Marks Scored by Alvin in Math\n",
      "\n",
      " 0    22.0\n",
      "1    21.0\n",
      "2    14.0\n",
      "3     NaN\n",
      "Name: Math, dtype: float64\n"
     ]
    }
   ],
   "source": [
    "dfMath = dfAlvin['Math']\n",
    "print(\"Marks Scored by Alvin in Math\\n\\n\",dfMath)"
   ]
  },
  {
   "cell_type": "code",
   "execution_count": 62,
   "metadata": {},
   "outputs": [
    {
     "name": "stdout",
     "output_type": "stream",
     "text": [
      "Percentage of Marks Scored by Alvin in Maths\n",
      "\n",
      " 57.0 %\n"
     ]
    }
   ],
   "source": [
    "row = len(dfMath) # here, row will be 4, the number of Unit Tests\n",
    "print(\"Percentage of Marks Scored by Alvin in Maths\\n\\n\", dfMath.sum()*100/(25*row),\"%\")"
   ]
  },
  {
   "cell_type": "markdown",
   "metadata": {},
   "source": [
    "## 6.2.  Dropping Missing Values"
   ]
  },
  {
   "cell_type": "code",
   "execution_count": 63,
   "metadata": {},
   "outputs": [
    {
     "name": "stdout",
     "output_type": "stream",
     "text": [
      "     Name  UT  Math  Science  Engl  Hist  Liter\n",
      "0   Alvin   1  22.0     21.0    18    20   21.0\n",
      "1   Alvin   2  21.0     20.0    17    22   24.0\n",
      "2   Alvin   3  14.0     19.0    15    24   23.0\n",
      "5   Belle   2  23.0     15.0    21    25   15.0\n",
      "6   Belle   3  22.0     18.0    19    23   13.0\n",
      "7   Belle   4  19.0     20.0    17    21   16.0\n",
      "8    Chip   1  23.0     19.0    20    15   22.0\n",
      "9    Chip   2  24.0     22.0    24    17   21.0\n",
      "10   Chip   3  12.0     25.0    19    21   23.0\n",
      "11   Chip   4  15.0     20.0    20    20   17.0\n",
      "12   Dale   1  15.0     22.0    25    22   22.0\n",
      "13   Dale   2  18.0     21.0    25    24   23.0\n",
      "14   Dale   3  17.0     18.0    20    25   20.0\n",
      "15   Dale   4  14.0     20.0    19    20   18.0\n"
     ]
    }
   ],
   "source": [
    "df1 = df.dropna()\n",
    "print(df1)"
   ]
  },
  {
   "cell_type": "code",
   "execution_count": 64,
   "metadata": {},
   "outputs": [],
   "source": [
    "# marks obtained by Alvin in all the unit tests\n",
    "dfAlvin=df[df.Name=='Alvin']\n"
   ]
  },
  {
   "cell_type": "code",
   "execution_count": 65,
   "metadata": {},
   "outputs": [
    {
     "name": "stdout",
     "output_type": "stream",
     "text": [
      "\n",
      "Marks Scored by Alvin in Maths\n",
      " 0    22.0\n",
      "1    21.0\n",
      "2    14.0\n",
      "Name: Math, dtype: float64\n"
     ]
    },
    {
     "name": "stderr",
     "output_type": "stream",
     "text": [
      "/var/folders/k3/93bf5ryn5057n3c5qrfhj_540000gn/T/ipykernel_12147/3817012395.py:3: SettingWithCopyWarning: \n",
      "A value is trying to be set on a copy of a slice from a DataFrame\n",
      "\n",
      "See the caveats in the documentation: https://pandas.pydata.org/pandas-docs/stable/user_guide/indexing.html#returning-a-view-versus-a-copy\n",
      "  dfAlvin.dropna(inplace=True,how='any')\n"
     ]
    }
   ],
   "source": [
    "# inplace=true makes changes in the \n",
    "#original DataFrame i.e. dfAlvin \n",
    "dfAlvin.dropna(inplace=True,how='any')\n",
    "dfMath = dfAlvin['Math'] # get the marks scored in Maths\n",
    "print(\"\\nMarks Scored by Alvin in Maths\\n\",dfMath)"
   ]
  },
  {
   "cell_type": "code",
   "execution_count": 66,
   "metadata": {},
   "outputs": [
    {
     "name": "stdout",
     "output_type": "stream",
     "text": [
      "\n",
      "Percentage of Marks Scored by Alvin in Maths\n",
      "\n",
      "76.0 %\n"
     ]
    }
   ],
   "source": [
    "row = len(dfMath) # row = 3\n",
    "print(\"\\nPercentage of Marks Scored by Alvin in Maths\\n\")\n",
    "print(dfMath.sum()*100/(25*row),\"%\")"
   ]
  },
  {
   "cell_type": "markdown",
   "metadata": {},
   "source": [
    "## 6.3. Estimating Missing Values"
   ]
  },
  {
   "cell_type": "code",
   "execution_count": 67,
   "metadata": {},
   "outputs": [],
   "source": [
    "#Marks Scored by Alvin in all the subjects across the tests\n",
    "dfAlvin = df.loc[df['Name']=='Alvin']"
   ]
  },
  {
   "cell_type": "code",
   "execution_count": 68,
   "metadata": {},
   "outputs": [
    {
     "name": "stdout",
     "output_type": "stream",
     "text": [
      "Marks Scored by Alvin in Science\n",
      "\n",
      " 0    21.0\n",
      "1    20.0\n",
      "2    19.0\n",
      "3     NaN\n",
      "Name: Science, dtype: float64\n"
     ]
    }
   ],
   "source": [
    "(row,col) = dfAlvin.shape\n",
    "dfScience = dfAlvin.loc[:,'Science']\n",
    "print(\"Marks Scored by Alvin in Science\\n\\n\",dfScience)"
   ]
  },
  {
   "cell_type": "code",
   "execution_count": 69,
   "metadata": {},
   "outputs": [
    {
     "name": "stdout",
     "output_type": "stream",
     "text": [
      "\n",
      "Marks Scored by Alvin in Science with Missing Values Replaced with Zero\n",
      " 0    21.0\n",
      "1    20.0\n",
      "2    19.0\n",
      "3     0.0\n",
      "Name: Science, dtype: float64\n"
     ]
    }
   ],
   "source": [
    "dfFillZeroScience = dfScience.fillna(0)\n",
    "print('\\nMarks Scored by Alvin in Science with Missing Values Replaced with Zero\\n',dfFillZeroScience)"
   ]
  },
  {
   "cell_type": "code",
   "execution_count": 70,
   "metadata": {},
   "outputs": [
    {
     "name": "stdout",
     "output_type": "stream",
     "text": [
      "Percentage of Marks Scored by Alvin in Science\n",
      "\n",
      " 60.0 %\n"
     ]
    }
   ],
   "source": [
    "print(\"Percentage of Marks Scored by Alvin in Science\\n\\n\",dfFillZeroScience.sum()*100/(25*row),\"%\")"
   ]
  },
  {
   "cell_type": "code",
   "execution_count": 71,
   "metadata": {},
   "outputs": [
    {
     "name": "stdout",
     "output_type": "stream",
     "text": [
      "Marks Scored by Alvin in English\n",
      "\n",
      " 0    21.0\n",
      "1    24.0\n",
      "2    23.0\n",
      "3     NaN\n",
      "Name: Liter, dtype: float64\n"
     ]
    }
   ],
   "source": [
    "dfEng = dfAlvin.loc[:,'Liter']\n",
    "print(\"Marks Scored by Alvin in English\\n\\n\",dfEng)"
   ]
  },
  {
   "cell_type": "code",
   "execution_count": 72,
   "metadata": {},
   "outputs": [
    {
     "name": "stdout",
     "output_type": "stream",
     "text": [
      "\n",
      "Marks Scored by Alvin in English with Missing Values Replaced by Previous Test Marks\n",
      " 0    21.0\n",
      "1    24.0\n",
      "2    23.0\n",
      "3    23.0\n",
      "Name: Liter, dtype: float64\n"
     ]
    }
   ],
   "source": [
    "dfFillPadEng = dfEng.fillna(method='pad')\n",
    "print('\\nMarks Scored by Alvin in English with Missing Values Replaced by Previous Test Marks\\n',dfFillPadEng)"
   ]
  },
  {
   "cell_type": "code",
   "execution_count": 73,
   "metadata": {},
   "outputs": [
    {
     "name": "stdout",
     "output_type": "stream",
     "text": [
      "Percentage of Marks Scored by Alvin in English\n",
      "\n",
      "\n",
      "91.0 %\n"
     ]
    }
   ],
   "source": [
    "print(\"Percentage of Marks Scored by Alvin in English\\n\\n\")\n",
    "print(dfFillPadEng.sum()*100/(25*row),\"%\")"
   ]
  },
  {
   "cell_type": "markdown",
   "metadata": {},
   "source": [
    "# Exercises: "
   ]
  },
  {
   "cell_type": "markdown",
   "metadata": {},
   "source": [
    "http://archive.ics.uci.edu/ml/machine-learning-databases/auto-mpg/"
   ]
  },
  {
   "cell_type": "markdown",
   "metadata": {},
   "source": [
    "Following are the exercises to analyse the data.\n",
    "\n",
    "1) Load auto-mpg.data into a DataFrame autodf.\n",
    "\n",
    "2) Give description of the generated DataFrame autodf. (Description-> Main Statistics) .describe() OR aggregate()\n",
    "\n",
    "3) Display the first 10 rows of the DataFrame autodf.  head(10)\n",
    "\n",
    "4) Find the attributes which have missing values.\n",
    "Handle the missing values using following two\n",
    "ways:\n",
    "   \n",
    "   i. Replace the missing values by a value before\n",
    "that. method = 'pad'\n",
    "\n",
    "   ii. Remove the rows having missing values from\n",
    "the original dataset\n",
    "            dropna()\n",
    "\n",
    "5) Print the details of the car which gave the\n",
    "maximum mileage.\n",
    "\n",
    "6) Find the average displacement of the car given\n",
    "the number of cylinders. mean\n",
    "\n",
    "7) What is the average number of cylinders in a car? [cylinder] -> mean\n",
    "\n",
    "8) Determine the no. of cars with weight greater\n",
    "than the average weight. count"
   ]
  }
 ],
 "metadata": {
  "kernelspec": {
   "display_name": "Python 3 (ipykernel)",
   "language": "python",
   "name": "python3"
  },
  "language_info": {
   "codemirror_mode": {
    "name": "ipython",
    "version": 3
   },
   "file_extension": ".py",
   "mimetype": "text/x-python",
   "name": "python",
   "nbconvert_exporter": "python",
   "pygments_lexer": "ipython3",
   "version": "3.9.12"
  }
 },
 "nbformat": 4,
 "nbformat_minor": 4
}
